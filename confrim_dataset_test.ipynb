{
 "cells": [
  {
   "cell_type": "code",
   "execution_count": 1,
   "metadata": {},
   "outputs": [
    {
     "name": "stdout",
     "output_type": "stream",
     "text": [
      "3000 8\n"
     ]
    }
   ],
   "source": [
    "import glob, os \n",
    "from confrim_dataset import yolo_dataset_confirm\n",
    "\n",
    "color = {0:(255,0,0),1:(0,255,0),2:(0,0,255),3:(255,255,0),4:(255,0,255),5:(0,255,255),6:(255,255,255)}\n",
    "label_dict = {0 : \"lg_up\",\n",
    "1 : \"lg_down\",\n",
    "2 : \"lg_ind\",\n",
    "3 : \"lg_working\",\n",
    "4 : \"warning_on\",\n",
    "5 : \"warning_off\",\n",
    "6 : \"safe_clip\"}\n",
    "\n",
    "\n",
    "save_path = \"./graph/\"\n",
    "\n",
    "gts = glob.glob(\"sythetic_meta/labels/*\")\n",
    "imgs  = glob.glob(\"sythetic_meta/images/*\")\n",
    "print(len(gts),len(imgs))\n"
   ]
  },
  {
   "cell_type": "code",
   "execution_count": 2,
   "metadata": {},
   "outputs": [
    {
     "name": "stdout",
     "output_type": "stream",
     "text": [
      "./graph/class_num_graph.png\n"
     ]
    }
   ],
   "source": [
    "real_graph = yolo_dataset_confirm(gts,save_path,label_dict)\n",
    "real_graph.class_num_graph(xticks_rt=30,xticks_fs = 8)\n"
   ]
  },
  {
   "cell_type": "code",
   "execution_count": 3,
   "metadata": {},
   "outputs": [
    {
     "ename": "TypeError",
     "evalue": "'Colors' object is not subscriptable",
     "output_type": "error",
     "traceback": [
      "\u001b[1;31m---------------------------------------------------------------------------\u001b[0m",
      "\u001b[1;31mTypeError\u001b[0m                                 Traceback (most recent call last)",
      "\u001b[1;32mc:\\Users\\sim2real\\Desktop\\data_utils\\confrim_dataset_test.ipynb 셀 3\u001b[0m line \u001b[0;36m1\n\u001b[1;32m----> <a href='vscode-notebook-cell:/c%3A/Users/sim2real/Desktop/data_utils/confrim_dataset_test.ipynb#X13sZmlsZQ%3D%3D?line=0'>1</a>\u001b[0m real_graph\u001b[39m.\u001b[39;49mbbox_confirm(imgs)\n",
      "File \u001b[1;32mc:\\Users\\sim2real\\Desktop\\data_utils\\confrim_dataset.py:90\u001b[0m, in \u001b[0;36myolo_dataset_confirm.bbox_confirm\u001b[1;34m(self, data_imgs)\u001b[0m\n\u001b[0;32m     88\u001b[0m \u001b[39mdef\u001b[39;00m \u001b[39mbbox_confirm\u001b[39m(\u001b[39mself\u001b[39m,data_imgs):\n\u001b[0;32m     89\u001b[0m     colors \u001b[39m=\u001b[39m Colors()  \u001b[39m# create instance for 'from utils.plots import colors'\u001b[39;00m\n\u001b[1;32m---> 90\u001b[0m     \u001b[39mprint\u001b[39m(colors[\u001b[39m0\u001b[39;49m])\n\u001b[0;32m     91\u001b[0m     \u001b[39mfor\u001b[39;00m img \u001b[39min\u001b[39;00m data_imgs:\n\u001b[0;32m     92\u001b[0m         im \u001b[39m=\u001b[39m cv2\u001b[39m.\u001b[39mimread(img,cv2\u001b[39m.\u001b[39mCOLOR_BGR2RGB)\n",
      "\u001b[1;31mTypeError\u001b[0m: 'Colors' object is not subscriptable"
     ]
    }
   ],
   "source": [
    "real_graph.bbox_confirm(imgs,color)"
   ]
  },
  {
   "cell_type": "code",
   "execution_count": null,
   "metadata": {},
   "outputs": [],
   "source": [
    "sythetic_meta\\labels\\20230816-164242.432681.txt\n",
    "sythetic_meta\\labels\\20230816-164242.432681.txt"
   ]
  },
  {
   "cell_type": "code",
   "execution_count": null,
   "metadata": {},
   "outputs": [],
   "source": []
  }
 ],
 "metadata": {
  "kernelspec": {
   "display_name": "yolo_hel",
   "language": "python",
   "name": "python3"
  },
  "language_info": {
   "codemirror_mode": {
    "name": "ipython",
    "version": 3
   },
   "file_extension": ".py",
   "mimetype": "text/x-python",
   "name": "python",
   "nbconvert_exporter": "python",
   "pygments_lexer": "ipython3",
   "version": "3.8.17"
  },
  "orig_nbformat": 4
 },
 "nbformat": 4,
 "nbformat_minor": 2
}
